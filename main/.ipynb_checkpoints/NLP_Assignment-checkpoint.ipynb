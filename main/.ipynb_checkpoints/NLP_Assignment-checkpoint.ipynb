{
 "cells": [
  {
   "cell_type": "markdown",
   "metadata": {
    "id": "qft0eIl3tRSZ"
   },
   "source": []
  },
  {
   "cell_type": "markdown",
   "metadata": {
    "id": "TRaAA98sz6QO"
   },
   "source": [
    "# Part 1 Creating a JSON file \n",
    "- Tag, Patterns, Response should be included"
   ]
  },
  {
   "cell_type": "markdown",
   "metadata": {
    "id": "IT0Tzl361UG9"
   },
   "source": [
    "# Part 2 Data Processing\n",
    "- Tokenization\n",
    "- Word Stemming / Lematization\n"
   ]
  },
  {
   "cell_type": "code",
   "execution_count": null,
   "metadata": {
    "colab": {
     "base_uri": "https://localhost:8080/",
     "height": 74
    },
    "id": "hd6cyV2sdpg6",
    "outputId": "5435364a-34e7-47e8-ae87-d01fa517ae65"
   },
   "outputs": [
    {
     "data": {
      "text/html": [
       "\n",
       "     <input type=\"file\" id=\"files-0af3f965-eb26-4343-b936-46936d1cd313\" name=\"files[]\" multiple disabled\n",
       "        style=\"border:none\" />\n",
       "     <output id=\"result-0af3f965-eb26-4343-b936-46936d1cd313\">\n",
       "      Upload widget is only available when the cell has been executed in the\n",
       "      current browser session. Please rerun this cell to enable.\n",
       "      </output>\n",
       "      <script>// Copyright 2017 Google LLC\n",
       "//\n",
       "// Licensed under the Apache License, Version 2.0 (the \"License\");\n",
       "// you may not use this file except in compliance with the License.\n",
       "// You may obtain a copy of the License at\n",
       "//\n",
       "//      http://www.apache.org/licenses/LICENSE-2.0\n",
       "//\n",
       "// Unless required by applicable law or agreed to in writing, software\n",
       "// distributed under the License is distributed on an \"AS IS\" BASIS,\n",
       "// WITHOUT WARRANTIES OR CONDITIONS OF ANY KIND, either express or implied.\n",
       "// See the License for the specific language governing permissions and\n",
       "// limitations under the License.\n",
       "\n",
       "/**\n",
       " * @fileoverview Helpers for google.colab Python module.\n",
       " */\n",
       "(function(scope) {\n",
       "function span(text, styleAttributes = {}) {\n",
       "  const element = document.createElement('span');\n",
       "  element.textContent = text;\n",
       "  for (const key of Object.keys(styleAttributes)) {\n",
       "    element.style[key] = styleAttributes[key];\n",
       "  }\n",
       "  return element;\n",
       "}\n",
       "\n",
       "// Max number of bytes which will be uploaded at a time.\n",
       "const MAX_PAYLOAD_SIZE = 100 * 1024;\n",
       "\n",
       "function _uploadFiles(inputId, outputId) {\n",
       "  const steps = uploadFilesStep(inputId, outputId);\n",
       "  const outputElement = document.getElementById(outputId);\n",
       "  // Cache steps on the outputElement to make it available for the next call\n",
       "  // to uploadFilesContinue from Python.\n",
       "  outputElement.steps = steps;\n",
       "\n",
       "  return _uploadFilesContinue(outputId);\n",
       "}\n",
       "\n",
       "// This is roughly an async generator (not supported in the browser yet),\n",
       "// where there are multiple asynchronous steps and the Python side is going\n",
       "// to poll for completion of each step.\n",
       "// This uses a Promise to block the python side on completion of each step,\n",
       "// then passes the result of the previous step as the input to the next step.\n",
       "function _uploadFilesContinue(outputId) {\n",
       "  const outputElement = document.getElementById(outputId);\n",
       "  const steps = outputElement.steps;\n",
       "\n",
       "  const next = steps.next(outputElement.lastPromiseValue);\n",
       "  return Promise.resolve(next.value.promise).then((value) => {\n",
       "    // Cache the last promise value to make it available to the next\n",
       "    // step of the generator.\n",
       "    outputElement.lastPromiseValue = value;\n",
       "    return next.value.response;\n",
       "  });\n",
       "}\n",
       "\n",
       "/**\n",
       " * Generator function which is called between each async step of the upload\n",
       " * process.\n",
       " * @param {string} inputId Element ID of the input file picker element.\n",
       " * @param {string} outputId Element ID of the output display.\n",
       " * @return {!Iterable<!Object>} Iterable of next steps.\n",
       " */\n",
       "function* uploadFilesStep(inputId, outputId) {\n",
       "  const inputElement = document.getElementById(inputId);\n",
       "  inputElement.disabled = false;\n",
       "\n",
       "  const outputElement = document.getElementById(outputId);\n",
       "  outputElement.innerHTML = '';\n",
       "\n",
       "  const pickedPromise = new Promise((resolve) => {\n",
       "    inputElement.addEventListener('change', (e) => {\n",
       "      resolve(e.target.files);\n",
       "    });\n",
       "  });\n",
       "\n",
       "  const cancel = document.createElement('button');\n",
       "  inputElement.parentElement.appendChild(cancel);\n",
       "  cancel.textContent = 'Cancel upload';\n",
       "  const cancelPromise = new Promise((resolve) => {\n",
       "    cancel.onclick = () => {\n",
       "      resolve(null);\n",
       "    };\n",
       "  });\n",
       "\n",
       "  // Wait for the user to pick the files.\n",
       "  const files = yield {\n",
       "    promise: Promise.race([pickedPromise, cancelPromise]),\n",
       "    response: {\n",
       "      action: 'starting',\n",
       "    }\n",
       "  };\n",
       "\n",
       "  cancel.remove();\n",
       "\n",
       "  // Disable the input element since further picks are not allowed.\n",
       "  inputElement.disabled = true;\n",
       "\n",
       "  if (!files) {\n",
       "    return {\n",
       "      response: {\n",
       "        action: 'complete',\n",
       "      }\n",
       "    };\n",
       "  }\n",
       "\n",
       "  for (const file of files) {\n",
       "    const li = document.createElement('li');\n",
       "    li.append(span(file.name, {fontWeight: 'bold'}));\n",
       "    li.append(span(\n",
       "        `(${file.type || 'n/a'}) - ${file.size} bytes, ` +\n",
       "        `last modified: ${\n",
       "            file.lastModifiedDate ? file.lastModifiedDate.toLocaleDateString() :\n",
       "                                    'n/a'} - `));\n",
       "    const percent = span('0% done');\n",
       "    li.appendChild(percent);\n",
       "\n",
       "    outputElement.appendChild(li);\n",
       "\n",
       "    const fileDataPromise = new Promise((resolve) => {\n",
       "      const reader = new FileReader();\n",
       "      reader.onload = (e) => {\n",
       "        resolve(e.target.result);\n",
       "      };\n",
       "      reader.readAsArrayBuffer(file);\n",
       "    });\n",
       "    // Wait for the data to be ready.\n",
       "    let fileData = yield {\n",
       "      promise: fileDataPromise,\n",
       "      response: {\n",
       "        action: 'continue',\n",
       "      }\n",
       "    };\n",
       "\n",
       "    // Use a chunked sending to avoid message size limits. See b/62115660.\n",
       "    let position = 0;\n",
       "    do {\n",
       "      const length = Math.min(fileData.byteLength - position, MAX_PAYLOAD_SIZE);\n",
       "      const chunk = new Uint8Array(fileData, position, length);\n",
       "      position += length;\n",
       "\n",
       "      const base64 = btoa(String.fromCharCode.apply(null, chunk));\n",
       "      yield {\n",
       "        response: {\n",
       "          action: 'append',\n",
       "          file: file.name,\n",
       "          data: base64,\n",
       "        },\n",
       "      };\n",
       "\n",
       "      let percentDone = fileData.byteLength === 0 ?\n",
       "          100 :\n",
       "          Math.round((position / fileData.byteLength) * 100);\n",
       "      percent.textContent = `${percentDone}% done`;\n",
       "\n",
       "    } while (position < fileData.byteLength);\n",
       "  }\n",
       "\n",
       "  // All done.\n",
       "  yield {\n",
       "    response: {\n",
       "      action: 'complete',\n",
       "    }\n",
       "  };\n",
       "}\n",
       "\n",
       "scope.google = scope.google || {};\n",
       "scope.google.colab = scope.google.colab || {};\n",
       "scope.google.colab._files = {\n",
       "  _uploadFiles,\n",
       "  _uploadFilesContinue,\n",
       "};\n",
       "})(self);\n",
       "</script> "
      ],
      "text/plain": [
       "<IPython.core.display.HTML object>"
      ]
     },
     "metadata": {},
     "output_type": "display_data"
    },
    {
     "name": "stdout",
     "output_type": "stream",
     "text": [
      "Saving intents.json to intents.json\n"
     ]
    }
   ],
   "source": [
    "# First step: Upload json dataset into google colab\n",
    "from google.colab import files\n",
    "\n",
    "dataset = files.upload()"
   ]
  },
  {
   "cell_type": "code",
   "execution_count": null,
   "metadata": {
    "id": "xpz6aYz13IjY"
   },
   "outputs": [],
   "source": [
    "# Malaya library is necessary for process malay words\n",
    "! pip install malaya"
   ]
  },
  {
   "cell_type": "code",
   "execution_count": 1,
   "metadata": {
    "id": "yd_06WfMehuZ"
   },
   "outputs": [],
   "source": [
    "# Second step: Read json file (To use as training dataset) and also install necessary library to process malay words\n",
    "import json\n",
    "intents = json.loads(open('intents.json').read())"
   ]
  },
  {
   "cell_type": "code",
   "execution_count": 2,
   "metadata": {
    "id": "Er4DdvJBfBEQ"
   },
   "outputs": [
    {
     "name": "stderr",
     "output_type": "stream",
     "text": [
      "C:\\Users\\cheok\\AppData\\Roaming\\Python\\Python39\\site-packages\\malaya_boilerplate\\frozen_graph.py:35: UserWarning: Cannot import beam_search_ops from Tensorflow Addons, ['malaya.jawi_rumi.deep_model', 'malaya.phoneme.deep_model', 'malaya.rumi_jawi.deep_model', 'malaya.stem.deep_model'] will not available to use, make sure Tensorflow Addons version >= 0.12.0\n",
      "  warnings.warn(\n",
      "C:\\Users\\cheok\\AppData\\Roaming\\Python\\Python39\\site-packages\\malaya_boilerplate\\frozen_graph.py:38: UserWarning: check compatible Tensorflow version with Tensorflow Addons at https://github.com/tensorflow/addons/releases\n",
      "  warnings.warn(\n",
      "C:\\Users\\cheok\\AppData\\Roaming\\Python\\Python39\\site-packages\\malaya\\tokenizer.py:208: FutureWarning: Possible nested set at position 3372\n",
      "  self.tok = re.compile(r'({})'.format('|'.join(pipeline)))\n",
      "C:\\Users\\cheok\\AppData\\Roaming\\Python\\Python39\\site-packages\\malaya\\tokenizer.py:208: FutureWarning: Possible nested set at position 3890\n",
      "  self.tok = re.compile(r'({})'.format('|'.join(pipeline)))\n"
     ]
    },
    {
     "name": "stdout",
     "output_type": "stream",
     "text": [
      "['Hello', 'Hi', 'Hai', 'Apa', 'khabar', '?', 'Selamat', 'pagi', 'Selamat', 'tengah', 'hari', 'Selamat', 'petang', 'Selamat', 'malam', 'Assalamualaikum', 'Apakah', 'nama', 'anda', '?', 'Siapa', 'yang', 'ciptakan', 'anda', '?', 'Berapakah', 'umur', 'anda', '?', 'Adakah', 'anda', 'manusia', 'atau', 'robot', '?', 'Adakah', 'anda', 'manusia', '?', 'robot', 'atau', 'manusia', '?', 'Bolehkah', 'saya', 'menempah', 'meja', '?', 'Saya', 'nak', 'tempah', 'meja', 'Bolehkah', 'kamu', 'tolong', 'tempahkan', 'meja', 'untuk', 'saya', '?', 'Bolehkah', 'saya', 'tempahkan', 'tempat', 'duduk', 'di', 'restoran', '?', 'Saya', 'ingin', 'membuat', 'tempahan', '1pm', '2pm', '3pm', '4pm', '5pm', '6pm', '7pm', '8pm', '9pm', '10pm', 'isnin', 'selasa', 'rabu', 'khamis', 'jumaat', 'sabtu', 'ahad', 'pukul', 'satu', 'setengah', 'pukul', 'dua', 'petang', 'pukul', 'tiga', 'petang', 'pukul', 'empat', 'petang', 'pukul', 'lima', 'petang', 'pukul', 'enam', 'petang', 'pukul', 'tujuh', 'petang', 'pukul', 'lapan', 'malam', 'pukul', 'sembilan', 'malam', 'pukul', 'sepuluh', 'malam', 'pukul', 'sebelas', 'malam', 'petang', 'malam', 'Restoran', 'ini', 'jual', 'apa', '?', 'Bolehkan', 'saya', 'tanya', 'menu', 'restoran', 'ini', '?', 'Apakan', 'menu', 'restoran', 'ini', '?', 'Boleh', 'tunjukkan', 'menu', 'tak', '?', 'menu', 'Adakah', 'apa', 'makanan', 'yang', 'dicadangkan', 'untuk', 'kami', '?', 'Apakah', 'makanan', 'terbaik', 'di', 'restoran', 'anda', '?', 'Cadangkan', 'makanan', 'untuk', 'kami', 'Apakah', 'makanan', 'yang', 'viral', 'di', 'restoran', 'anda', '?', 'Makanan', 'terbaik', 'Menu', 'viral', 'Bagaimana', 'protokol', 'covid', 'restoran', 'anda', 'dilaksanakan', '?', 'Adakah', 'restoran', 'anda', 'selamat', 'daripada', 'covid', '?', 'covid', 'polisi-polisi', 'covid', 'Nak', 'tanya', 'ada', 'promosi', 'tak', '?', 'Apakah', 'promosi', 'restoran', 'anda', '?', 'Adakah', 'apa-apa', 'tawaran', 'di', 'restoran', 'anda', '?', 'Nak', 'tanya', 'ada', 'masakan', 'untuk', 'vegetarian', 'tak', '?', 'vegetarian', 'Bilakah', 'restoran', 'anda', 'dibuka', '?', 'Masa', 'operasi', 'restoran', 'Bilakah', 'restoran', 'anda', 'ditutup', '?', 'Nak', 'tanya', 'restoran', 'ini', 'di', 'mana', '?', 'Manakah', 'restoran', 'ini', '?', 'Restoran', 'ini', 'terletak', 'di', 'mana', '?', 'Manakah', 'boleh', 'saya', 'cari', 'restoran', 'ini', '?', 'Mana', '?', 'Nak', 'tanya', 'macam', 'mana', 'untuk', 'menghubungi', 'anda', '?', 'Minta', 'nombor', 'telefon', 'Apakah', 'nombor', 'telefon', 'restoran', 'ini', '?', 'telefon', 'nombor', 'telefon', 'Bolehkah', 'kami', 'order', 'secara', 'online', '?', 'Adakah', 'servis', 'food', 'delivery', 'di', 'restoran', 'anda', '?', 'Saya', 'akan', 'meninggalkan', 'sini', 'sekarang', 'Jumpa', 'nanti', 'Selamat', 'tinggal', 'Jaga', 'diri']\n",
      "['Hello']\n",
      "greetings\n",
      "greetings\n"
     ]
    }
   ],
   "source": [
    "# Third step: Tokenizing words in patterns in json file\n",
    "import malaya\n",
    "\n",
    "tokenizer = malaya.tokenizer.Tokenizer()\n",
    "\n",
    "words = []\n",
    "doc_x = []\n",
    "doc_y = []\n",
    "classes = []\n",
    "\n",
    "for intent in intents['intents']:\n",
    "  for pattern in intent['patterns']:\n",
    "    word_list = tokenizer.tokenize(pattern)\n",
    "    words.extend(word_list)   # Not append as extend is adding words to the list, and append is adding list to list which is not what we need\n",
    "    doc_x.append(word_list)\n",
    "    doc_y.append(intent[\"tags\"])\n",
    "\n",
    "    if intent['tags'] not in classes:\n",
    "      classes.append(intent['tags'])\n",
    "\n",
    "print(words)\n",
    "print(doc_x[0])\n",
    "print(doc_y[0])\n",
    "print(classes[0])"
   ]
  },
  {
   "cell_type": "code",
   "execution_count": 3,
   "metadata": {
    "id": "kxl29L2eldeI"
   },
   "outputs": [
    {
     "name": "stdout",
     "output_type": "stream",
     "text": [
      "['Hello', 'Hi', 'Hai', 'Apa', 'khabar', '', 'Selamat', 'pagi', 'Selamat', 'tengah', 'hari', 'Selamat', 'petang', 'Selamat', 'malam', 'Assalamualaikum', 'Apakah', 'nama', 'anda', '', 'Siapa', 'yang', 'ciptakan', 'anda', '', 'Berapakah', 'umur', 'anda', '', 'Adakah', 'anda', 'manusia', 'atau', 'robot', '', 'Adakah', 'anda', 'manusia', '', 'robot', 'atau', 'manusia', '', 'Bolehkah', 'saya', 'menempah', 'meja', '', 'Saya', 'nak', 'tempah', 'meja', 'Bolehkah', 'kamu', 'tolong', 'tempahkan', 'meja', 'untuk', 'saya', '', 'Bolehkah', 'saya', 'tempahkan', 'tempat', 'duduk', 'di', 'restoran', '', 'Saya', 'ingin', 'membuat', 'tempahan', '1pm', '2pm', '3pm', '4pm', '5pm', '6pm', '7pm', '8pm', '9pm', '10pm', 'isnin', 'selasa', 'rabu', 'khamis', 'jumaat', 'sabtu', 'ahad', 'pukul', 'satu', 'setengah', 'pukul', 'dua', 'petang', 'pukul', 'tiga', 'petang', 'pukul', 'empat', 'petang', 'pukul', 'lima', 'petang', 'pukul', 'enam', 'petang', 'pukul', 'tujuh', 'petang', 'pukul', 'lapan', 'malam', 'pukul', 'sembilan', 'malam', 'pukul', 'sepuluh', 'malam', 'pukul', 'sebelas', 'malam', 'petang', 'malam', 'Restoran', 'ini', 'jual', 'apa', '', 'Bolehkan', 'saya', 'tanya', 'menu', 'restoran', 'ini', '', 'Apakan', 'menu', 'restoran', 'ini', '', 'Boleh', 'tunjukkan', 'menu', 'tak', '', 'menu', 'Adakah', 'apa', 'makanan', 'yang', 'dicadangkan', 'untuk', 'kami', '', 'Apakah', 'makanan', 'terbaik', 'di', 'restoran', 'anda', '', 'Cadangkan', 'makanan', 'untuk', 'kami', 'Apakah', 'makanan', 'yang', 'viral', 'di', 'restoran', 'anda', '', 'Makanan', 'terbaik', 'Menu', 'viral', 'Bagaimana', 'protokol', 'covid', 'restoran', 'anda', 'dilaksanakan', '', 'Adakah', 'restoran', 'anda', 'selamat', 'daripada', 'covid', '', 'covid', 'polisipolisi', 'covid', 'Nak', 'tanya', 'ada', 'promosi', 'tak', '', 'Apakah', 'promosi', 'restoran', 'anda', '', 'Adakah', 'apaapa', 'tawaran', 'di', 'restoran', 'anda', '', 'Nak', 'tanya', 'ada', 'masakan', 'untuk', 'vegetarian', 'tak', '', 'vegetarian', 'Bilakah', 'restoran', 'anda', 'dibuka', '', 'Masa', 'operasi', 'restoran', 'Bilakah', 'restoran', 'anda', 'ditutup', '', 'Nak', 'tanya', 'restoran', 'ini', 'di', 'mana', '', 'Manakah', 'restoran', 'ini', '', 'Restoran', 'ini', 'terletak', 'di', 'mana', '', 'Manakah', 'boleh', 'saya', 'cari', 'restoran', 'ini', '', 'Mana', '', 'Nak', 'tanya', 'macam', 'mana', 'untuk', 'menghubungi', 'anda', '', 'Minta', 'nombor', 'telefon', 'Apakah', 'nombor', 'telefon', 'restoran', 'ini', '', 'telefon', 'nombor', 'telefon', 'Bolehkah', 'kami', 'order', 'secara', 'online', '', 'Adakah', 'servis', 'food', 'delivery', 'di', 'restoran', 'anda', '', 'Saya', 'akan', 'meninggalkan', 'sini', 'sekarang', 'Jumpa', 'nanti', 'Selamat', 'tinggal', 'Jaga', 'diri']\n"
     ]
    }
   ],
   "source": [
    "# Fourth step: Remove Punctuations in text\n",
    "import string\n",
    "words = [word.translate(str.maketrans(\"\",\"\", string.punctuation)) for word in words]\n",
    "print(words)"
   ]
  },
  {
   "cell_type": "code",
   "execution_count": null,
   "metadata": {
    "id": "UWLy_XcHmmbK"
   },
   "outputs": [],
   "source": [
    "# To install library necessary for stemming and lemmatizing malay texts\n",
    "! pip install PySastrawi"
   ]
  },
  {
   "cell_type": "code",
   "execution_count": 4,
   "metadata": {
    "id": "rzAmKszGkDho"
   },
   "outputs": [
    {
     "name": "stdout",
     "output_type": "stream",
     "text": [
      "['', '10pm', '1pm', '2pm', '3pm', '4pm', '5pm', '6pm', '7pm', '8pm', '9pm', 'Ada', 'Apa', 'Apakah', 'Assalamualaikum', 'Bagaimana', 'Berapa', 'Bila', 'Boleh', 'Cadang', 'Hai', 'Hello', 'Hi', 'Jaga', 'Jumpa', 'Makan', 'Mana', 'Masa', 'Menu', 'Minta', 'Nak', 'Restoran', 'Saya', 'Selamat', 'Siapa', 'ada', 'ahad', 'akan', 'anda', 'apa', 'apaapa', 'atau', 'baik', 'boleh', 'buat', 'buka', 'cadang', 'cara', 'cari', 'cipta', 'covid', 'daripada', 'delivery', 'di', 'diri', 'dua', 'duduk', 'empat', 'enam', 'food', 'hari', 'hubung', 'ingin', 'ini', 'isnin', 'jual', 'jumaat', 'kami', 'kamu', 'khabar', 'khamis', 'laksana', 'lap', 'letak', 'lima', 'macam', 'makan', 'malam', 'mana', 'manusia', 'masakan', 'meja', 'menu', 'nak', 'nama', 'nanti', 'nombor', 'online', 'operasi', 'order', 'pagi', 'petang', 'polisipolisi', 'promosi', 'protokol', 'pukul', 'puluh', 'rabu', 'restoran', 'robot', 'sabtu', 'satu', 'saya', 'sebelas', 'sekarang', 'selamat', 'selasa', 'sembilan', 'servis', 'sini', 'tak', 'tanya', 'tawar', 'telefon', 'tempah', 'tempat', 'tengah', 'tiga', 'tinggal', 'tolong', 'tujuh', 'tunjuk', 'tutup', 'umur', 'untuk', 'vegetarian', 'viral', 'yang']\n",
      "['address', 'book_table', 'bot', 'contact', 'covid', 'goodbye', 'greetings', 'name', 'offers', 'online', 'open_hours', 'reserve_time', 'show_menu', 'suggest_order', 'vegan_option']\n"
     ]
    }
   ],
   "source": [
    "# Fifth step: Stemming and Lemmatizing the malay words to their root form\n",
    "sastrawi = malaya.stem.sastrawi()\n",
    "\n",
    "words = [sastrawi.stem(word) for word in words]\n",
    "words = sorted(set(words))\n",
    "classes = sorted(classes)\n",
    "print(words)\n",
    "print(classes)"
   ]
  },
  {
   "cell_type": "code",
   "execution_count": null,
   "metadata": {
    "colab": {
     "background_save": true
    },
    "id": "vlxRwwzb6cOr"
   },
   "outputs": [],
   "source": [
    "# Sixth step: Remove stop words in malay (Upload malay stopwords dataset found online)\n",
    "stopwords_json = files.upload()"
   ]
  },
  {
   "cell_type": "code",
   "execution_count": 5,
   "metadata": {
    "colab": {
     "background_save": true
    },
    "id": "8n4OeZf6t9TK"
   },
   "outputs": [
    {
     "name": "stdout",
     "output_type": "stream",
     "text": [
      "['', '10pm', '1pm', '2pm', '3pm', '4pm', '5pm', '6pm', '7pm', '8pm', '9pm', 'ada', 'apa', 'apakah', 'assalamualaikum', 'bagaimana', 'berapa', 'bila', 'boleh', 'cadang', 'hai', 'hello', 'hi', 'jaga', 'jumpa', 'makan', 'mana', 'masa', 'menu', 'minta', 'nak', 'restoran', 'saya', 'selamat', 'siapa', 'ahad', 'apaapa', 'buka', 'cadang', 'cari', 'cipta', 'covid', 'delivery', 'duduk', 'food', 'hubung', 'isnin', 'jual', 'jumaat', 'khabar', 'khamis', 'laksana', 'lap', 'letak', 'makan', 'manusia', 'masakan', 'meja', 'menu', 'nama', 'nombor', 'online', 'operasi', 'order', 'polisipolisi', 'promosi', 'protokol', 'rabu', 'restoran', 'robot', 'sabtu', 'selamat', 'selasa', 'sembilan', 'servis', 'tawar', 'telefon', 'tempah', 'tinggal', 'tolong', 'tutup', 'umur', 'vegetarian', 'viral']\n"
     ]
    }
   ],
   "source": [
    "# Continue sixth step\n",
    "stopwords = json.loads(open('stopwords.json').read())\n",
    "\n",
    "words = [word.lower() for word in words if word not in stopwords]\n",
    "print(words)\n",
    "\n"
   ]
  },
  {
   "cell_type": "code",
   "execution_count": 6,
   "metadata": {
    "colab": {
     "background_save": true
    },
    "id": "-RerAdpRrJAO"
   },
   "outputs": [
    {
     "name": "stdout",
     "output_type": "stream",
     "text": [
      "[[0 0 0 ... 0 0 0]\n",
      " [0 0 0 ... 0 0 0]\n",
      " [0 0 0 ... 0 0 0]\n",
      " ...\n",
      " [0 0 0 ... 0 0 0]\n",
      " [0 0 0 ... 0 0 0]\n",
      " [0 0 0 ... 0 0 0]]\n"
     ]
    }
   ],
   "source": [
    "0# Seventh step: Prepare training data\n",
    "\n",
    "import random\n",
    "import numpy as np\n",
    "\n",
    "training = []\n",
    "output = []\n",
    "output_empty = [0 for _ in range(len(classes))]\n",
    "\n",
    "for x, doc in enumerate(doc_x):\n",
    "  bag = []\n",
    "  word_patterns = [sastrawi.stem(word.lower()) for word in doc]\n",
    "\n",
    "  for word in words:\n",
    "    if word in word_patterns:\n",
    "      bag.append(1)\n",
    "    else:\n",
    "      bag.append(0)\n",
    "\n",
    "  output_row = output_empty[:]\n",
    "  output_row[classes.index(doc_y[x])] = 1\n",
    "  training.append(bag)\n",
    "  output.append(output_row)\n",
    "\n",
    "\n",
    "training = np.array(training)\n",
    "output = np.array(output)\n",
    "\n",
    "print(training)"
   ]
  },
  {
   "cell_type": "code",
   "execution_count": null,
   "metadata": {
    "colab": {
     "background_save": true
    },
    "id": "wywSWqPBbmgh"
   },
   "outputs": [],
   "source": [
    "! pip install tflearn"
   ]
  },
  {
   "cell_type": "markdown",
   "metadata": {
    "id": "LfeE7PqX1sb6"
   },
   "source": [
    "# Part 3 Model Building\n",
    "- use ANN as our AI model\n"
   ]
  },
  {
   "cell_type": "code",
   "execution_count": 7,
   "metadata": {
    "colab": {
     "background_save": true
    },
    "id": "mBsjUce8_OxQ"
   },
   "outputs": [
    {
     "name": "stdout",
     "output_type": "stream",
     "text": [
      "Training Step: 2399  | total loss: \u001b[1m\u001b[32m0.00216\u001b[0m\u001b[0m | time: 0.021s\n",
      "| Adam | epoch: 200 | loss: 0.00216 - acc: 1.0000 -- iter: 88/89\n",
      "Training Step: 2400  | total loss: \u001b[1m\u001b[32m0.00216\u001b[0m\u001b[0m | time: 0.022s\n",
      "| Adam | epoch: 200 | loss: 0.00216 - acc: 1.0000 -- iter: 89/89\n",
      "--\n",
      "INFO:tensorflow:C:\\Users\\cheok\\Desktop\\School\\NLP\\model.tflearn is not in all_model_checkpoint_paths. Manually adding it.\n"
     ]
    }
   ],
   "source": [
    "from tensorflow.python.framework import ops\n",
    "import tflearn\n",
    "ops.reset_default_graph()\n",
    "#tf.reset_default_graph()\n",
    "\n",
    "net = tflearn.input_data(shape=[None, len(training[0])])\n",
    "net = tflearn.fully_connected(net, 64)\n",
    "net = tflearn.fully_connected(net, 64)\n",
    "net = tflearn.fully_connected(net, len(output[0]), activation=\"softmax\")\n",
    "net = tflearn.regression(net)\n",
    "\n",
    "model = tflearn.DNN(net)\n",
    "model.fit(training, output, n_epoch=200, batch_size=8, show_metric=True)\n",
    "model.save(\"model.tflearn\")"
   ]
  },
  {
   "cell_type": "code",
   "execution_count": null,
   "metadata": {
    "colab": {
     "background_save": true
    },
    "id": "HkQhqP3QiZup"
   },
   "outputs": [],
   "source": [
    "def bag_of_words(s, words):\n",
    "    bag = [0 for _ in range(len(words))]\n",
    "\n",
    "    s_words = tokenizer.tokenize(s)\n",
    "    s_words = [sastrawi.stem(word.lower()) for word in s_words]\n",
    "\n",
    "    for se in s_words:\n",
    "        for i, w in enumerate(words):\n",
    "            if w == se:\n",
    "                bag[i] = 1\n",
    "            \n",
    "    return np.array(bag)\n",
    "\n",
    "\n",
    "def chat():\n",
    "    print(\"Start talking with the bot (type quit to stop)!\")\n",
    "    while True:\n",
    "        inp = input(\"You: \")\n",
    "        if inp.lower() == \"quit\":\n",
    "            break\n",
    "\n",
    "        results = model.predict([bag_of_words(inp, words)])\n",
    "        print(results)\n",
    "        print(classes)\n",
    "        results_index = np.argmax(results)\n",
    "        tag = classes[results_index]\n",
    "\n",
    "        for tg in intents[\"intents\"]:\n",
    "            if tg['tags'] == tag:\n",
    "                responses = tg['responses']\n",
    "\n",
    "        print(random.choice(responses))\n",
    "\n",
    "if __name__ == \"__main__\":        \n",
    " chat()"
   ]
  },
  {
   "cell_type": "markdown",
   "metadata": {
    "id": "Z4Ea1Rbf4VK6"
   },
   "source": [
    "# Part 3.5 Add Voice To Text Feature\n",
    "- Use Tensorflow MALAYA library. It is in whatsapp\n"
   ]
  },
  {
   "cell_type": "markdown",
   "metadata": {
    "id": "aKWn9Gus18a_"
   },
   "source": [
    "# Part 4 Test Our Model\n"
   ]
  },
  {
   "cell_type": "markdown",
   "metadata": {
    "id": "6avtL1I23T3M"
   },
   "source": [
    "# Part 5 GUI<br>\n",
    "- Note: tkinter cannot be used in google colab, need to use local machine **"
   ]
  },
  {
   "cell_type": "code",
   "execution_count": null,
   "metadata": {},
   "outputs": [],
   "source": []
  },
  {
   "cell_type": "code",
   "execution_count": 9,
   "metadata": {
    "colab": {
     "base_uri": "https://localhost:8080/",
     "height": 321
    },
    "id": "9cca2Wkz3Zhb",
    "outputId": "173ef209-32be-475c-cf9a-9bf10cef2304"
   },
   "outputs": [
    {
     "name": "stdout",
     "output_type": "stream",
     "text": [
      "Selected: \n",
      "Selected: C:/Users/cheok/Desktop/School/TARC final paper library.txt\n"
     ]
    }
   ],
   "source": [
    "# Import necessary library for GUI purposes\n",
    "import tkinter as tk\n",
    "from PIL import Image, ImageTk\n",
    "from tkinter import filedialog\n",
    "\n",
    "def bag_of_words(s, words):\n",
    "    bag = [0 for _ in range(len(words))]\n",
    "\n",
    "    s_words = tokenizer.tokenize(s)\n",
    "    s_words = [sastrawi.stem(word.lower()) for word in s_words]\n",
    "\n",
    "    for se in s_words:\n",
    "        for i, w in enumerate(words):\n",
    "            if w == se:\n",
    "                bag[i] = 1\n",
    "            \n",
    "    return np.array(bag)\n",
    "\n",
    "\n",
    "# Button function\n",
    "def enterMsg():\n",
    "    user_input = e.get()\n",
    "    e.delete(0, tk.END)\n",
    "    # To modify label text\n",
    "\n",
    "    # Chatbot generate reply\n",
    "    results = model.predict([bag_of_words(user_input, words)])\n",
    "    results_index = np.argmax(results)\n",
    "    tag = classes[results_index]\n",
    "\n",
    "    for tg in intents[\"intents\"]:\n",
    "        if tg['tags'] == tag:\n",
    "            responses = tg['responses']\n",
    "\n",
    "    botAns.config(text=f\"RDS Bot : {random.choice(responses)}\")\n",
    "\n",
    "def UploadAction(event=None):\n",
    "    filename = filedialog.askopenfilename()\n",
    "    print('Selected:', filename)\n",
    "\n",
    "  \n",
    "root = tk.Tk()\n",
    "root.title(\"RDS Restaurant's Chatbot\")\n",
    "root.iconbitmap('favicon.ico')\n",
    "root.geometry(\"800x400\")\n",
    "root.minsize(800, 400)\n",
    "root['bg'] = \"white\"\n",
    "\n",
    "img_path = Image.open(\"robot.webp\")\n",
    "img_path = img_path.resize((100, 100))\n",
    "img = ImageTk.PhotoImage(img_path)\n",
    "imgLabel = tk.Label(root, image=img)\n",
    "imgLabel.image = img\n",
    "\n",
    "label = tk.Label(root, text=\"Selamat Datang ke RDSRestaurant !\")\n",
    "botAns = tk.Label(root, text=\"RDS Bot : Beep.... Nama saya RDSbot! Macam mana saya boleh bantu anda?\", width=80, height=5, wraplength=400)\n",
    "e = tk.Entry(root, width=70)\n",
    "\n",
    "myBtn = tk.Button(root, text=\"Press to Enter!\", command=enterMsg)\n",
    "btnQuit = tk.Button(root, text=\"Exit Program\", command=root.quit)\n",
    "btnUpload = tk.Button(root, text='Open', command=UploadAction)\n",
    "\n",
    "# Positioning Elements\n",
    "imgLabel.grid(row=0, column=1, padx=15, pady=15)\n",
    "label.grid(row=1, column=1, padx=10, pady=10)\n",
    "botAns.grid(row=2, column=1, padx=10, pady=10)\n",
    "e.grid(row=3, column=0, columnspan=3, padx= 50, pady=10)\n",
    "myBtn.grid(row=4, column=2, padx=0, pady=10)\n",
    "btnUpload.grid(row=4, column=1)\n",
    "btnQuit.grid(row=4, column=0,padx=15, pady=10)\n",
    "\n",
    "\n",
    "root.mainloop()\n",
    "\n"
   ]
  },
  {
   "cell_type": "code",
   "execution_count": 15,
   "metadata": {},
   "outputs": [
    {
     "name": "stdout",
     "output_type": "stream",
     "text": [
      "Defaulting to user installation because normal site-packages is not writeable\n",
      "Collecting pyaudio\n",
      "  Downloading PyAudio-0.2.12-cp39-cp39-win_amd64.whl (163 kB)\n",
      "Installing collected packages: pyaudio\n",
      "Successfully installed pyaudio-0.2.12\n"
     ]
    }
   ],
   "source": [
    "! pip install pyaudio"
   ]
  },
  {
   "cell_type": "code",
   "execution_count": 21,
   "metadata": {},
   "outputs": [],
   "source": [
    "import pyaudio\n",
    "import wave\n",
    "\n",
    "audio = pyaudio.PyAudio()\n",
    "stream = audio.open(format=pyaudio.paInt16, channels=1, rate=44100, input=True, frames_per_buffer=10)\n",
    "\n",
    "frames = []\n",
    "\n",
    "try:\n",
    "    while True:\n",
    "        data = stream.read(1024)\n",
    "        frames.append(data)\n",
    "except:\n",
    "    pass\n",
    "\n",
    "stream.stop_stream()\n",
    "stream.close()\n",
    "audio.terminate()\n",
    "\n",
    "sound_file = wave.open('myrecording.wav', 'wb')\n",
    "sound_file.setnchannels(1)\n",
    "sound_file.setsampwidth(audio.get_sample_size(pyaudio.paInt16))\n",
    "sound_file.setframerate(44100)\n",
    "sound_file.writeframes(b''.join(frames))\n",
    "sound_file.close()\n"
   ]
  },
  {
   "cell_type": "code",
   "execution_count": null,
   "metadata": {},
   "outputs": [],
   "source": []
  }
 ],
 "metadata": {
  "colab": {
   "provenance": []
  },
  "kernelspec": {
   "display_name": "Python 3 (ipykernel)",
   "language": "python",
   "name": "python3"
  },
  "language_info": {
   "codemirror_mode": {
    "name": "ipython",
    "version": 3
   },
   "file_extension": ".py",
   "mimetype": "text/x-python",
   "name": "python",
   "nbconvert_exporter": "python",
   "pygments_lexer": "ipython3",
   "version": "3.9.12"
  }
 },
 "nbformat": 4,
 "nbformat_minor": 1
}
